{
 "cells": [
  {
   "cell_type": "markdown",
   "id": "administrative-radio",
   "metadata": {},
   "source": [
    "# Chapter 4 Regression using Scikit Learn"
   ]
  },
  {
   "cell_type": "markdown",
   "id": "compliant-january",
   "metadata": {},
   "source": [
    "### 1. Generating Data for the Linear Regression Y = aX + b"
   ]
  },
  {
   "cell_type": "code",
   "execution_count": 14,
   "id": "opening-observer",
   "metadata": {},
   "outputs": [
    {
     "name": "stdout",
     "output_type": "stream",
     "text": [
      "(100, 1)\n",
      "(100, 1)\n"
     ]
    },
    {
     "data": {
      "text/plain": [
       "(0.0, 1.2, 0.0, 10.0)"
      ]
     },
     "execution_count": 14,
     "metadata": {},
     "output_type": "execute_result"
    },
    {
     "data": {
      "image/png": "[encoded data removed]",
      "text/plain": [
       "<Figure size 432x288 with 1 Axes>"
      ]
     },
     "metadata": {
      "needs_background": "light"
     },
     "output_type": "display_data"
    }
   ],
   "source": [
    "import numpy as np\n",
    "import matplotlib.pyplot as plt\n",
    "\n",
    "theta0 = 4\n",
    "theta1 = 2\n",
    "\n",
    "\n",
    "X = np.random.rand(100, 1)\n",
    "Y = theta0 + theta1 * X + np.random.randn(100, 1)\n",
    "\n",
    "print(X.shape)\n",
    "print(Y.shape)\n",
    "\n",
    "plt.plot(X, Y, 'ro')\n",
    "plt.axis([0, 1.2, 0, 10])"
   ]
  },
  {
   "cell_type": "markdown",
   "id": "clean-papua",
   "metadata": {},
   "source": [
    "### 2. Using Mathematical Equation to solve for theta."
   ]
  },
  {
   "cell_type": "code",
   "execution_count": 15,
   "id": "comprehensive-hawaiian",
   "metadata": {},
   "outputs": [
    {
     "name": "stdout",
     "output_type": "stream",
     "text": [
      "[[3.91247402]\n",
      " [2.0331998 ]]\n"
     ]
    }
   ],
   "source": [
    "X_b  = np.c_[np.ones((100, 1)), X] # add x0 to each instance\n",
    "theta_best = np.linalg.inv(X_b.T.dot(X_b)).dot(X_b.T).dot(Y)\n",
    "print(theta_best)"
   ]
  },
  {
   "cell_type": "markdown",
   "id": "sustainable-thread",
   "metadata": {},
   "source": [
    "### 3. Making new predictions"
   ]
  },
  {
   "cell_type": "code",
   "execution_count": 23,
   "id": "promising-alcohol",
   "metadata": {},
   "outputs": [
    {
     "name": "stdout",
     "output_type": "stream",
     "text": [
      "[[3.91247402]\n",
      " [5.94567382]]\n"
     ]
    },
    {
     "data": {
      "text/plain": [
       "(0.0, 1.2, 0.0, 10.0)"
      ]
     },
     "execution_count": 23,
     "metadata": {},
     "output_type": "execute_result"
    },
    {
     "data": {
      "image/png": "[encoded data removed]",
      "text/plain": [
       "<Figure size 432x288 with 1 Axes>"
      ]
     },
     "metadata": {
      "needs_background": "light"
     },
     "output_type": "display_data"
    }
   ],
   "source": [
    "X_new = np.array([[0], [1]])\n",
    "X_new_b = np.c_[np.ones((2, 1)), X_new]\n",
    "y_predict = X_new_b.dot(theta_best)\n",
    "print(y_predict)\n",
    "\n",
    "plt.plot(X_new, y_predict, \"r-\")\n",
    "plt.plot(X, Y, \"b.\")\n",
    "plt.axis([0, 1.2, 0, 10])"
   ]
  },
  {
   "cell_type": "markdown",
   "id": "flying-routine",
   "metadata": {},
   "source": [
    "### 4. Solving using Linear Regression Class sklearn"
   ]
  },
  {
   "cell_type": "code",
   "execution_count": 25,
   "id": "vietnamese-seafood",
   "metadata": {},
   "outputs": [
    {
     "name": "stdout",
     "output_type": "stream",
     "text": [
      "[3.91247402]\n",
      "[[2.0331998]]\n",
      "[[3.91247402]\n",
      " [5.94567382]]\n"
     ]
    }
   ],
   "source": [
    "from sklearn.linear_model import LinearRegression\n",
    "\n",
    "lin_reg = LinearRegression()\n",
    "lin_reg.fit(X, Y)\n",
    "print(lin_reg.intercept_)\n",
    "print(lin_reg.coef_)\n",
    "print(lin_reg.predict(X_new))"
   ]
  },
  {
   "cell_type": "markdown",
   "id": "radical-static",
   "metadata": {},
   "source": [
    "### 5. using scipy.linalg.lstsq to solve for the best theta.\n"
   ]
  },
  {
   "cell_type": "code",
   "execution_count": 27,
   "id": "meaningful-campbell",
   "metadata": {},
   "outputs": [
    {
     "name": "stdout",
     "output_type": "stream",
     "text": [
      "[[3.91247402]\n",
      " [2.0331998 ]]\n"
     ]
    }
   ],
   "source": [
    "theta_best_svd, residuals, rank, s = np.linalg.lstsq(X_b, Y, rcond=1e-6)\n",
    "print(theta_best_svd)"
   ]
  },
  {
   "cell_type": "markdown",
   "id": "proprietary-chain",
   "metadata": {},
   "source": [
    "### 6. Solve using the pseudoInverse\n"
   ]
  },
  {
   "cell_type": "code",
   "execution_count": 28,
   "id": "latest-round",
   "metadata": {},
   "outputs": [
    {
     "name": "stdout",
     "output_type": "stream",
     "text": [
      "[[3.91247402]\n",
      " [2.0331998 ]]\n"
     ]
    }
   ],
   "source": [
    "\n",
    "print(np.linalg.pinv(X_b).dot(Y))"
   ]
  },
  {
   "cell_type": "markdown",
   "id": "italian-petroleum",
   "metadata": {},
   "source": [
    "### 7. Solve using the Gradient Descent"
   ]
  },
  {
   "cell_type": "code",
   "execution_count": 34,
   "id": "fifteen-senate",
   "metadata": {},
   "outputs": [
    {
     "name": "stdout",
     "output_type": "stream",
     "text": [
      "[[3.91247395]\n",
      " [2.03319995]]\n"
     ]
    }
   ],
   "source": [
    "eta = 0.1 # learning rate\n",
    "n_iterations = 1000\n",
    "m = 100\n",
    "\n",
    "theta_gd = np.random.randn(2, 1) # random intialization.\n",
    "\n",
    "for iteration in range(n_iterations):\n",
    "    gradients = 2/m * X_b.T.dot(X_b.dot(theta_gd) - Y)\n",
    "    theta_gd = theta_gd - eta * gradients\n",
    "    \n",
    "print(theta_gd)"
   ]
  },
  {
   "cell_type": "markdown",
   "id": "sized-unknown",
   "metadata": {},
   "source": [
    "### 8. Solve using Stochastic Gradient Descent"
   ]
  },
  {
   "cell_type": "code",
   "execution_count": 35,
   "id": "satellite-chassis",
   "metadata": {},
   "outputs": [
    {
     "name": "stdout",
     "output_type": "stream",
     "text": [
      "[[3.94634288]\n",
      " [2.0353438 ]]\n"
     ]
    }
   ],
   "source": [
    "n_epoches = 50\n",
    "t0, t1 = 5, 50\n",
    "\n",
    "def learning_schedule(t):\n",
    "    return t0 / (t+t1)\n",
    "\n",
    "theta = np.random.randn(2,1) # random initialization\n",
    "\n",
    "for epoch in range(n_epoches):\n",
    "    for i in range(m):\n",
    "        random_index = np.random.randint(m)\n",
    "        xi = X_b[random_index : random_index +1]\n",
    "        yi = Y[random_index : random_index +1]\n",
    "        gradients = 2 * xi.T.dot(xi.dot(theta) - yi)\n",
    "        eta = learning_schedule(epoch * m + i)\n",
    "        theta = theta - eta * gradients\n",
    "\n",
    "print(theta)"
   ]
  },
  {
   "cell_type": "markdown",
   "id": "specified-truth",
   "metadata": {},
   "source": [
    "### 9. Using SGDRegressor"
   ]
  },
  {
   "cell_type": "code",
   "execution_count": 40,
   "id": "employed-affiliate",
   "metadata": {},
   "outputs": [
    {
     "name": "stdout",
     "output_type": "stream",
     "text": [
      "[3.8270194] [2.00950127]\n"
     ]
    }
   ],
   "source": [
    "from sklearn.linear_model import SGDRegressor\n",
    "\n",
    "sgd_reg = SGDRegressor(max_iter = 1000, tol=1e-3, penalty=None, eta0=0.1)\n",
    "sgd_reg.fit(X, Y.ravel())\n",
    "\n",
    "print(sgd_reg.intercept_, sgd_reg.coef_)"
   ]
  },
  {
   "cell_type": "markdown",
   "id": "stone-prior",
   "metadata": {},
   "source": [
    "### 10.  Generating Polynomial Data."
   ]
  },
  {
   "cell_type": "code",
   "execution_count": 47,
   "id": "billion-lawrence",
   "metadata": {},
   "outputs": [
    {
     "data": {
      "text/plain": [
       "[<matplotlib.lines.Line2D at 0x7fc034dfb3a0>]"
      ]
     },
     "execution_count": 47,
     "metadata": {},
     "output_type": "execute_result"
    },
    {
     "data": {
      "image/png": "[encoded data removed]",
      "text/plain": [
       "<Figure size 432x288 with 1 Axes>"
      ]
     },
     "metadata": {
      "needs_background": "light"
     },
     "output_type": "display_data"
    }
   ],
   "source": [
    "m = 100\n",
    "\n",
    "X_poly = 6 * np.random.rand(m,1) - 3\n",
    "Y_poly = 0.5 * (X ** 2) + X + 2 + np.random.randn(m,1)\n",
    "\n",
    "plt.plot(X_poly, Y_poly, \"b.\")"
   ]
  },
  {
   "cell_type": "code",
   "execution_count": 49,
   "id": "distinct-martin",
   "metadata": {},
   "outputs": [
    {
     "name": "stdout",
     "output_type": "stream",
     "text": [
      "[2.80452408]\n",
      "[2.80452408 7.86535534]\n",
      "[2.72415267] [[ 0.04168268 -0.06882381]]\n"
     ]
    }
   ],
   "source": [
    "from sklearn.preprocessing import PolynomialFeatures\n",
    "\n",
    "poly_features = PolynomialFeatures(degree=2, include_bias=False)\n",
    "X_poly_mod = poly_features.fit_transform(X_poly)\n",
    "print(X_poly[0])\n",
    "print(X_poly_mod[0])\n",
    "\n",
    "lin_reg = LinearRegression()\n",
    "lin_reg.fit(X_poly_mod, Y_poly)\n",
    "print(lin_reg.intercept_, lin_reg.coef_)\n"
   ]
  },
  {
   "cell_type": "markdown",
   "id": "diagnostic-capability",
   "metadata": {},
   "source": [
    "### 11. Regularized Linear Models."
   ]
  },
  {
   "cell_type": "code",
   "execution_count": null,
   "id": "transparent-semiconductor",
   "metadata": {},
   "outputs": [],
   "source": []
  }
 ],
 "metadata": {
  "kernelspec": {
   "display_name": "Python 3",
   "language": "python",
   "name": "python3"
  },
  "language_info": {
   "codemirror_mode": {
    "name": "ipython",
    "version": 3
   },
   "file_extension": ".py",
   "mimetype": "text/x-python",
   "name": "python",
   "nbconvert_exporter": "python",
   "pygments_lexer": "ipython3",
   "version": "3.8.5"
  }
 },
 "nbformat": 4,
 "nbformat_minor": 5
}
